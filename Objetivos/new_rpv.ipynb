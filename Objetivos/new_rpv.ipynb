{
 "cells": [
  {
   "cell_type": "markdown",
   "id": "93145165-0d97-46de-986c-3275d0dde8d5",
   "metadata": {},
   "source": [
    "<h1 style=\"color:red;\"> Distribución de RPV.</h1>"
   ]
  },
  {
   "cell_type": "code",
   "execution_count": 7,
   "id": "8a47dab6-0789-4b12-a75c-b43b92766bb8",
   "metadata": {
    "tags": []
   },
   "outputs": [],
   "source": [
    "data <- read.csv(file = \"base_rpv.csv\")"
   ]
  },
  {
   "cell_type": "code",
   "execution_count": 8,
   "id": "0b631bbc-ac6c-4822-9a9f-2080be50e2a7",
   "metadata": {
    "tags": []
   },
   "outputs": [
    {
     "data": {
      "text/html": [
       "<style>\n",
       ".list-inline {list-style: none; margin:0; padding: 0}\n",
       ".list-inline>li {display: inline-block}\n",
       ".list-inline>li:not(:last-child)::after {content: \"\\00b7\"; padding: 0 .5ex}\n",
       "</style>\n",
       "<ol class=list-inline><li>'Fecha'</li><li>'Unidad.de.negocio'</li><li>'No..Empleado'</li><li>'No..usuario'</li><li>'Proceso'</li><li>'Tipo.de.almacén'</li><li>'Area'</li><li>'Ubic.procedencia'</li><li>'Renglones'</li><li>'Piezas'</li><li>'Volumen.m3'</li><li>'Volumen.cm3'</li><li>'Peso'</li><li>'Codigos'</li><li>'Cajas'</li><li>'Tarimas'</li><li>'Folios'</li><li>'Tiempo'</li><li>'ID'</li><li>'Renglones.por.hora'</li><li>'Piezas.por.hora'</li><li>'Volumen.m3.por.hora'</li><li>'Codigos.por.hora'</li><li>'Cajas.por.hora'</li><li>'Tarimas.por.hora'</li><li>'Folios.por.hora'</li><li>'Peso.por.hora'</li><li>'Renglones.Obtenido'</li><li>'Pieza.Obtenido'</li><li>'Volumen.m3.Obtenido'</li><li>'Codigos.Obtenido'</li><li>'Cajas.Obtenido'</li><li>'Tarimas.Otenido'</li><li>'Folios.Obtenido'</li><li>'RPV'</li><li>'Ponderacion'</li><li>'Ponderacion.Valor'</li><li>'Evaluacion.de.desempeño'</li></ol>\n"
      ],
      "text/latex": [
       "\\begin{enumerate*}\n",
       "\\item 'Fecha'\n",
       "\\item 'Unidad.de.negocio'\n",
       "\\item 'No..Empleado'\n",
       "\\item 'No..usuario'\n",
       "\\item 'Proceso'\n",
       "\\item 'Tipo.de.almacén'\n",
       "\\item 'Area'\n",
       "\\item 'Ubic.procedencia'\n",
       "\\item 'Renglones'\n",
       "\\item 'Piezas'\n",
       "\\item 'Volumen.m3'\n",
       "\\item 'Volumen.cm3'\n",
       "\\item 'Peso'\n",
       "\\item 'Codigos'\n",
       "\\item 'Cajas'\n",
       "\\item 'Tarimas'\n",
       "\\item 'Folios'\n",
       "\\item 'Tiempo'\n",
       "\\item 'ID'\n",
       "\\item 'Renglones.por.hora'\n",
       "\\item 'Piezas.por.hora'\n",
       "\\item 'Volumen.m3.por.hora'\n",
       "\\item 'Codigos.por.hora'\n",
       "\\item 'Cajas.por.hora'\n",
       "\\item 'Tarimas.por.hora'\n",
       "\\item 'Folios.por.hora'\n",
       "\\item 'Peso.por.hora'\n",
       "\\item 'Renglones.Obtenido'\n",
       "\\item 'Pieza.Obtenido'\n",
       "\\item 'Volumen.m3.Obtenido'\n",
       "\\item 'Codigos.Obtenido'\n",
       "\\item 'Cajas.Obtenido'\n",
       "\\item 'Tarimas.Otenido'\n",
       "\\item 'Folios.Obtenido'\n",
       "\\item 'RPV'\n",
       "\\item 'Ponderacion'\n",
       "\\item 'Ponderacion.Valor'\n",
       "\\item 'Evaluacion.de.desempeño'\n",
       "\\end{enumerate*}\n"
      ],
      "text/markdown": [
       "1. 'Fecha'\n",
       "2. 'Unidad.de.negocio'\n",
       "3. 'No..Empleado'\n",
       "4. 'No..usuario'\n",
       "5. 'Proceso'\n",
       "6. 'Tipo.de.almacén'\n",
       "7. 'Area'\n",
       "8. 'Ubic.procedencia'\n",
       "9. 'Renglones'\n",
       "10. 'Piezas'\n",
       "11. 'Volumen.m3'\n",
       "12. 'Volumen.cm3'\n",
       "13. 'Peso'\n",
       "14. 'Codigos'\n",
       "15. 'Cajas'\n",
       "16. 'Tarimas'\n",
       "17. 'Folios'\n",
       "18. 'Tiempo'\n",
       "19. 'ID'\n",
       "20. 'Renglones.por.hora'\n",
       "21. 'Piezas.por.hora'\n",
       "22. 'Volumen.m3.por.hora'\n",
       "23. 'Codigos.por.hora'\n",
       "24. 'Cajas.por.hora'\n",
       "25. 'Tarimas.por.hora'\n",
       "26. 'Folios.por.hora'\n",
       "27. 'Peso.por.hora'\n",
       "28. 'Renglones.Obtenido'\n",
       "29. 'Pieza.Obtenido'\n",
       "30. 'Volumen.m3.Obtenido'\n",
       "31. 'Codigos.Obtenido'\n",
       "32. 'Cajas.Obtenido'\n",
       "33. 'Tarimas.Otenido'\n",
       "34. 'Folios.Obtenido'\n",
       "35. 'RPV'\n",
       "36. 'Ponderacion'\n",
       "37. 'Ponderacion.Valor'\n",
       "38. 'Evaluacion.de.desempeño'\n",
       "\n",
       "\n"
      ],
      "text/plain": [
       " [1] \"Fecha\"                   \"Unidad.de.negocio\"      \n",
       " [3] \"No..Empleado\"            \"No..usuario\"            \n",
       " [5] \"Proceso\"                 \"Tipo.de.almacén\"        \n",
       " [7] \"Area\"                    \"Ubic.procedencia\"       \n",
       " [9] \"Renglones\"               \"Piezas\"                 \n",
       "[11] \"Volumen.m3\"              \"Volumen.cm3\"            \n",
       "[13] \"Peso\"                    \"Codigos\"                \n",
       "[15] \"Cajas\"                   \"Tarimas\"                \n",
       "[17] \"Folios\"                  \"Tiempo\"                 \n",
       "[19] \"ID\"                      \"Renglones.por.hora\"     \n",
       "[21] \"Piezas.por.hora\"         \"Volumen.m3.por.hora\"    \n",
       "[23] \"Codigos.por.hora\"        \"Cajas.por.hora\"         \n",
       "[25] \"Tarimas.por.hora\"        \"Folios.por.hora\"        \n",
       "[27] \"Peso.por.hora\"           \"Renglones.Obtenido\"     \n",
       "[29] \"Pieza.Obtenido\"          \"Volumen.m3.Obtenido\"    \n",
       "[31] \"Codigos.Obtenido\"        \"Cajas.Obtenido\"         \n",
       "[33] \"Tarimas.Otenido\"         \"Folios.Obtenido\"        \n",
       "[35] \"RPV\"                     \"Ponderacion\"            \n",
       "[37] \"Ponderacion.Valor\"       \"Evaluacion.de.desempeño\""
      ]
     },
     "metadata": {},
     "output_type": "display_data"
    }
   ],
   "source": [
    "colnames(data)"
   ]
  },
  {
   "cell_type": "code",
   "execution_count": 9,
   "id": "4e7ae72a-814a-4a9c-b000-d0ed488ff64e",
   "metadata": {
    "tags": []
   },
   "outputs": [
    {
     "data": {
      "image/png": "[encoded data removed]",
      "text/plain": [
       "Plot with title \"Histogram of data$RPV[data$Unidad.de.negocio == \"RRRP\"]\""
      ]
     },
     "metadata": {
      "image/png": {
       "height": 420,
       "width": 420
      }
     },
     "output_type": "display_data"
    }
   ],
   "source": [
    "hist(data$RPV[ data$Unidad.de.negocio == \"RRRP\" ])"
   ]
  },
  {
   "cell_type": "code",
   "execution_count": 10,
   "id": "412659b3-25eb-420b-89c3-12e21a3eb71f",
   "metadata": {},
   "outputs": [],
   "source": [
    "summ <- read.csv(\"summary.csv\")"
   ]
  },
  {
   "cell_type": "code",
   "execution_count": 11,
   "id": "2aead855-e12f-4856-b918-a6419dd424d9",
   "metadata": {
    "tags": []
   },
   "outputs": [
    {
     "data": {
      "text/html": [
       "<style>\n",
       ".list-inline {list-style: none; margin:0; padding: 0}\n",
       ".list-inline>li {display: inline-block}\n",
       ".list-inline>li:not(:last-child)::after {content: \"\\00b7\"; padding: 0 .5ex}\n",
       "</style>\n",
       "<ol class=list-inline><li>'Centro'</li><li>'TURNO'</li><li>'SUPERVISOR'</li><li>'Empleado'</li><li>'USUARIO'</li><li>'Fecha.de.Ingreso'</li><li>'NOMBRE'</li><li>'WG'</li><li>'Fecha'</li><li>'Asistencia'</li><li>'RPV'</li></ol>\n"
      ],
      "text/latex": [
       "\\begin{enumerate*}\n",
       "\\item 'Centro'\n",
       "\\item 'TURNO'\n",
       "\\item 'SUPERVISOR'\n",
       "\\item 'Empleado'\n",
       "\\item 'USUARIO'\n",
       "\\item 'Fecha.de.Ingreso'\n",
       "\\item 'NOMBRE'\n",
       "\\item 'WG'\n",
       "\\item 'Fecha'\n",
       "\\item 'Asistencia'\n",
       "\\item 'RPV'\n",
       "\\end{enumerate*}\n"
      ],
      "text/markdown": [
       "1. 'Centro'\n",
       "2. 'TURNO'\n",
       "3. 'SUPERVISOR'\n",
       "4. 'Empleado'\n",
       "5. 'USUARIO'\n",
       "6. 'Fecha.de.Ingreso'\n",
       "7. 'NOMBRE'\n",
       "8. 'WG'\n",
       "9. 'Fecha'\n",
       "10. 'Asistencia'\n",
       "11. 'RPV'\n",
       "\n",
       "\n"
      ],
      "text/plain": [
       " [1] \"Centro\"           \"TURNO\"            \"SUPERVISOR\"       \"Empleado\"        \n",
       " [5] \"USUARIO\"          \"Fecha.de.Ingreso\" \"NOMBRE\"           \"WG\"              \n",
       " [9] \"Fecha\"            \"Asistencia\"       \"RPV\"             "
      ]
     },
     "metadata": {},
     "output_type": "display_data"
    }
   ],
   "source": [
    "colnames(summ)"
   ]
  },
  {
   "cell_type": "code",
   "execution_count": 22,
   "id": "2e00c2ba-0114-4baa-9a05-4a10e6af94fe",
   "metadata": {
    "tags": []
   },
   "outputs": [
    {
     "data": {
      "image/png": "[encoded data removed]",
      "text/plain": [
       "Plot with title \"Histogram of summ$RPV\""
      ]
     },
     "metadata": {
      "image/png": {
       "height": 420,
       "width": 420
      }
     },
     "output_type": "display_data"
    }
   ],
   "source": [
    "hist(summ$RPV, prob = T, col = \"#43A04780\")\n",
    "lines(density(summ$RPV), lw = 4, col =\"#F57F17\")\n",
    "grid()"
   ]
  },
  {
   "cell_type": "code",
   "execution_count": 13,
   "id": "4c8312bd-1a4f-4567-b954-a11b05e050ae",
   "metadata": {
    "tags": []
   },
   "outputs": [
    {
     "data": {
      "text/plain": [
       "   Min. 1st Qu.  Median    Mean 3rd Qu.    Max. \n",
       "  4.654 255.307 304.389 293.865 352.467 360.000 "
      ]
     },
     "metadata": {},
     "output_type": "display_data"
    }
   ],
   "source": [
    "summary(summ$RPV)"
   ]
  },
  {
   "cell_type": "code",
   "execution_count": 23,
   "id": "dd255f75-7084-4c52-b284-1599d5ba8d5a",
   "metadata": {
    "tags": []
   },
   "outputs": [
    {
     "data": {
      "text/plain": [
       "\n",
       "Call:\n",
       "\tdensity.default(x = summ$RPV)\n",
       "\n",
       "Data: summ$RPV (3146 obs.);\tBandwidth 'bw' = 11.18\n",
       "\n",
       "       x                y            \n",
       " Min.   :-28.89   Min.   :1.320e-07  \n",
       " 1st Qu.: 76.72   1st Qu.:1.423e-04  \n",
       " Median :182.33   Median :1.070e-03  \n",
       " Mean   :182.33   Mean   :2.364e-03  \n",
       " 3rd Qu.:287.94   3rd Qu.:4.648e-03  \n",
       " Max.   :393.54   Max.   :1.041e-02  "
      ]
     },
     "metadata": {},
     "output_type": "display_data"
    }
   ],
   "source": [
    "density(summ$RPV)"
   ]
  },
  {
   "cell_type": "code",
   "execution_count": 25,
   "id": "671dba2d-e205-4ccf-acf1-6f44eb15b532",
   "metadata": {
    "tags": []
   },
   "outputs": [],
   "source": [
    "S <- sd(summ$RPV)"
   ]
  },
  {
   "cell_type": "code",
   "execution_count": 26,
   "id": "ac58878f-3d40-4f62-9907-73b694c130c6",
   "metadata": {
    "tags": []
   },
   "outputs": [],
   "source": [
    "M <- mean(summ$RPV)"
   ]
  },
  {
   "cell_type": "code",
   "execution_count": 35,
   "id": "75080707-8a8b-4106-a59e-fe52b83ede1c",
   "metadata": {
    "tags": []
   },
   "outputs": [],
   "source": [
    "X <- (summ$RPV - M)/S"
   ]
  },
  {
   "cell_type": "code",
   "execution_count": 36,
   "id": "7efb5176-0f93-4bdb-be79-b11ec27c16f4",
   "metadata": {
    "tags": []
   },
   "outputs": [
    {
     "data": {
      "image/png": "[encoded data removed]",
      "text/plain": [
       "Plot with title \"Histogram of X\""
      ]
     },
     "metadata": {
      "image/png": {
       "height": 420,
       "width": 420
      }
     },
     "output_type": "display_data"
    }
   ],
   "source": [
    "hist(X)"
   ]
  },
  {
   "cell_type": "code",
   "execution_count": null,
   "id": "13e5d8a6-0831-414b-89ba-ae767edb2cca",
   "metadata": {},
   "outputs": [],
   "source": []
  }
 ],
 "metadata": {
  "kernelspec": {
   "display_name": "R",
   "language": "R",
   "name": "ir"
  },
  "language_info": {
   "codemirror_mode": "r",
   "file_extension": ".r",
   "mimetype": "text/x-r-source",
   "name": "R",
   "pygments_lexer": "r",
   "version": "4.3.0"
  }
 },
 "nbformat": 4,
 "nbformat_minor": 5
}
